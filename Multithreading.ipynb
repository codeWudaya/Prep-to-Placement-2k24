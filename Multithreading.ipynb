{
 "cells": [
  {
   "cell_type": "markdown",
   "id": "1909d49f",
   "metadata": {},
   "source": [
    "# <center>By Udayabhanu Nayak CSE Grad 2024</center>"
   ]
  },
  {
   "cell_type": "markdown",
   "id": "4b19763b",
   "metadata": {},
   "source": [
    "# <center>Multi Threading</center>"
   ]
  },
  {
   "cell_type": "markdown",
   "id": "20aa0a23",
   "metadata": {},
   "source": [
    "#### Thread: \n",
    "    A thread is the smallest unit of execution within a process. It represents an independent path of execution through the program code. Threads within the same process share the same memory space and resources, allowing them to communicate and coordinate with each other easily."
   ]
  },
  {
   "cell_type": "markdown",
   "id": "bd59732c",
   "metadata": {},
   "source": [
    "#### Multithreading: \n",
    "    Multithreading is a programming technique where multiple threads are created within a single process to perform concurrent tasks. By utilizing multithreading, a program can achieve better responsiveness, improved throughput, and enhanced efficiency by utilizing available CPU resources more effectively."
   ]
  },
  {
   "cell_type": "code",
   "execution_count": 1,
   "id": "c569a070",
   "metadata": {},
   "outputs": [],
   "source": [
    "import threading\n",
    "import time"
   ]
  },
  {
   "cell_type": "code",
   "execution_count": 2,
   "id": "4bf4d8b8",
   "metadata": {},
   "outputs": [],
   "source": [
    "def func(sec):\n",
    "    print(f\"Sleeping for {sec} seconds\")\n",
    "    time.sleep(sec)"
   ]
  },
  {
   "cell_type": "markdown",
   "id": "3c22c718",
   "metadata": {},
   "source": [
    "## How normally / serially process works"
   ]
  },
  {
   "cell_type": "code",
   "execution_count": 3,
   "id": "53dff63c",
   "metadata": {},
   "outputs": [
    {
     "name": "stdout",
     "output_type": "stream",
     "text": [
      "Sleeping for 4 seconds\n",
      "Sleeping for 3 seconds\n",
      "Sleeping for 2 seconds\n",
      "9.002697299991269\n"
     ]
    }
   ],
   "source": [
    "before=time.perf_counter()\n",
    "\n",
    "func(4)\n",
    "func(3)\n",
    "func(2)\n",
    "\n",
    "after = time.perf_counter()\n",
    "\n",
    "print(after-before)"
   ]
  },
  {
   "cell_type": "markdown",
   "id": "4ca50bc9",
   "metadata": {},
   "source": [
    "## Check time when all run simultaniously at background"
   ]
  },
  {
   "cell_type": "markdown",
   "id": "4afcff0f",
   "metadata": {},
   "source": [
    "### By using Threads"
   ]
  },
  {
   "cell_type": "code",
   "execution_count": 4,
   "id": "11887b4d",
   "metadata": {},
   "outputs": [
    {
     "name": "stdout",
     "output_type": "stream",
     "text": [
      "Sleeping for 4 seconds\n",
      "Sleeping for 3 seconds\n",
      "Sleeping for 2 seconds\n",
      "Time taken  0.004541700007393956\n"
     ]
    }
   ],
   "source": [
    "before=time.perf_counter()\n",
    "\n",
    "t1=threading.Thread(target=func,args=[4])\n",
    "t2=threading.Thread(target=func,args=[3])\n",
    "t3=threading.Thread(target=func,args=[2])\n",
    "\n",
    "t1.start()\n",
    "t2.start()\n",
    "t3.start()\n",
    "after=time.perf_counter()\n",
    "print(\"Time taken \",after-before)"
   ]
  },
  {
   "cell_type": "markdown",
   "id": "f25c8c43",
   "metadata": {},
   "source": [
    "## Waiting all threads to be executed"
   ]
  },
  {
   "cell_type": "code",
   "execution_count": 5,
   "id": "57eb8659",
   "metadata": {},
   "outputs": [
    {
     "name": "stdout",
     "output_type": "stream",
     "text": [
      "Sleeping for 4 seconds\n",
      "Sleeping for 3 seconds\n",
      "Sleeping for 2 seconds\n",
      "Time taken  4.00393529998837\n"
     ]
    }
   ],
   "source": [
    "before=time.perf_counter()\n",
    "\n",
    "t1=threading.Thread(target=func,args=[4])\n",
    "t2=threading.Thread(target=func,args=[3])\n",
    "t3=threading.Thread(target=func,args=[2])\n",
    "\n",
    "t1.start()\n",
    "t2.start()\n",
    "t3.start()\n",
    "\n",
    "t1.join()\n",
    "t2.join()\n",
    "t3.join()\n",
    "after=time.perf_counter()\n",
    "print(\"Time taken \",after-before)"
   ]
  },
  {
   "cell_type": "markdown",
   "id": "a34f94b8",
   "metadata": {},
   "source": [
    "## Multiprocessing :\n",
    "    it is a programming technique where multiple processes are created to perform concurrent tasks. Unlike multithreading, where multiple threads share the same memory space within a single process, multiprocessing involves separate memory spaces for each process. This isolation between processes makes multiprocessing more robust and suitable for tasks that require a high level of parallelism and independence."
   ]
  },
  {
   "cell_type": "markdown",
   "id": "05baa2f5",
   "metadata": {},
   "source": [
    "### Multiprocessing: \n",
    "    Multiprocessing involves spawning multiple processes to execute tasks concurrently. Each process runs in its own memory space, allowing for true parallelism."
   ]
  },
  {
   "cell_type": "code",
   "execution_count": 1,
   "id": "ce3c1f5c",
   "metadata": {},
   "outputs": [
    {
     "name": "stdout",
     "output_type": "stream",
     "text": [
      "All processes have finished.\n"
     ]
    }
   ],
   "source": [
    "import multiprocessing\n",
    "\n",
    "# Function to be executed by each process\n",
    "def worker_process(name):\n",
    "    print(f'Worker process {name} is executing.')\n",
    "\n",
    "if __name__ == \"__main__\":\n",
    "    # Define the number of processes to create\n",
    "    num_processes = 4\n",
    "\n",
    "    # Create a list to store the processes\n",
    "    processes = []\n",
    "\n",
    "    # Create and start the processes\n",
    "    for i in range(num_processes):\n",
    "        process = multiprocessing.Process(target=worker_process, args=(i,))\n",
    "        processes.append(process)\n",
    "        process.start()\n",
    "\n",
    "    # Wait for all processes to finish\n",
    "    for process in processes:\n",
    "        process.join()\n",
    "\n",
    "    print(\"All processes have finished.\")"
   ]
  },
  {
   "cell_type": "markdown",
   "id": "16f67a6e",
   "metadata": {},
   "source": [
    "# <center>Thank You</center>"
   ]
  }
 ],
 "metadata": {
  "kernelspec": {
   "display_name": "Python 3 (ipykernel)",
   "language": "python",
   "name": "python3"
  },
  "language_info": {
   "codemirror_mode": {
    "name": "ipython",
    "version": 3
   },
   "file_extension": ".py",
   "mimetype": "text/x-python",
   "name": "python",
   "nbconvert_exporter": "python",
   "pygments_lexer": "ipython3",
   "version": "3.11.5"
  }
 },
 "nbformat": 4,
 "nbformat_minor": 5
}
