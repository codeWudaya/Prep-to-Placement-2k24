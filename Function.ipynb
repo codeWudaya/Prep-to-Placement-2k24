{
 "cells": [
  {
   "cell_type": "markdown",
   "id": "e5fcf6a4",
   "metadata": {},
   "source": [
    "# <center>By `Udayabhanu Nayak` CSE Grad 2024</center>"
   ]
  },
  {
   "cell_type": "markdown",
   "id": "b407be0a",
   "metadata": {},
   "source": [
    "# <center>Functions in one shot</center>"
   ]
  },
  {
   "cell_type": "markdown",
   "id": "02976f28",
   "metadata": {},
   "source": [
    "# `Function`\n",
    "#### A function in programming is a reusable block of code that performs a specific task, typically taking input parameters and returning a result\n",
    "\n",
    "* A function is a `block of organized code` written to carry out a specified task.\n",
    "* Functions help break our program into `smaller` and `modular` chunks for better `readability`.\n",
    "* Information can be passed into a function as arguments.\n",
    "* Parameters are specified after the function name inside the parentheses.\n",
    "* We can add as many parameters as we want. Parameters must be separated with a `comma`.\n",
    "* A function `may or may not return data`.\n",
    "* In Python a function is defined using the `def keyword`"
   ]
  },
  {
   "cell_type": "markdown",
   "id": "0be2d6ce",
   "metadata": {},
   "source": [
    "### Function has two parts \n",
    "* Defination\n",
    "* Call"
   ]
  },
  {
   "cell_type": "code",
   "execution_count": 1,
   "id": "b443bfff",
   "metadata": {},
   "outputs": [
    {
     "name": "stdout",
     "output_type": "stream",
     "text": [
      "first second\n"
     ]
    }
   ],
   "source": [
    "### function defination , arguments\n",
    "\n",
    "def function_name(argument1, argument2):\n",
    "    '''\n",
    "    This portion called DocString, acts as a comment that will not be shown in the output.\n",
    "    '''\n",
    "    # Actual code to be executed goes here\n",
    "    print(argument1, argument2)\n",
    "\n",
    "# Calling the function by name\n",
    "obj = function_name('first', 'second')"
   ]
  },
  {
   "cell_type": "markdown",
   "id": "f2fd96f0",
   "metadata": {},
   "source": [
    "#### In Python,\n",
    "#### you can define functions with default argument values. \n",
    "#### Default arguments are used when the function is called without providing a value for a specific parameter."
   ]
  },
  {
   "cell_type": "code",
   "execution_count": 2,
   "id": "1efe6c01",
   "metadata": {},
   "outputs": [
    {
     "name": "stdout",
     "output_type": "stream",
     "text": [
      "Hello Udaya\n",
      "Hi Did you Follow me !\n"
     ]
    }
   ],
   "source": [
    "def greet(name, greeting='Hello'):\n",
    "    print(greeting, name)\n",
    "\n",
    "# Calling the function with different arguments\n",
    "greet('Udaya')  \n",
    "greet('Did you Follow me !', 'Hi')  "
   ]
  },
  {
   "cell_type": "markdown",
   "id": "5c9a37d7",
   "metadata": {},
   "source": [
    "## 4 ways of creating Function"
   ]
  },
  {
   "cell_type": "markdown",
   "id": "293a1890",
   "metadata": {},
   "source": [
    "### NANR: No Arguments, No Return\n",
    "This type of function doesn't take any arguments and doesn't return any value."
   ]
  },
  {
   "cell_type": "code",
   "execution_count": 3,
   "id": "5d09a8be",
   "metadata": {},
   "outputs": [
    {
     "name": "stdout",
     "output_type": "stream",
     "text": [
      "Knowledge is free quickly follow me 😍!\n",
      "Without any argument , and Not using return \n"
     ]
    }
   ],
   "source": [
    "def greet():\n",
    "    print(\"Knowledge is free quickly follow me 😍!\")\n",
    "    print(\"Without any argument , and Not using return \")\n",
    "\n",
    "greet()"
   ]
  },
  {
   "cell_type": "markdown",
   "id": "3dea003a",
   "metadata": {},
   "source": [
    "### WAWR: With Arguments, With Return\n",
    "This type of function takes arguments and returns a value."
   ]
  },
  {
   "cell_type": "code",
   "execution_count": 4,
   "id": "89baa408",
   "metadata": {},
   "outputs": [
    {
     "name": "stdout",
     "output_type": "stream",
     "text": [
      "Without argument , and using return \n",
      "Knowledge is free quickly follow me, Udaya 😁!!\n"
     ]
    }
   ],
   "source": [
    "def greet(name):\n",
    "    message = \"Knowledge is free quickly follow me, \" + name + \"!\"\n",
    "    print(\"Without argument , and using return \")\n",
    "    return message\n",
    "\n",
    "\n",
    "result = greet(\"Udaya 😁!\")\n",
    "print(result)"
   ]
  },
  {
   "cell_type": "markdown",
   "id": "291d1c05",
   "metadata": {},
   "source": [
    "### WANR: With Arguments, No Return\n",
    "This type of function takes arguments but doesn't return any value."
   ]
  },
  {
   "cell_type": "code",
   "execution_count": 5,
   "id": "0d06dd46",
   "metadata": {},
   "outputs": [
    {
     "name": "stdout",
     "output_type": "stream",
     "text": [
      "Knowledge is free quickly follow me 😊, Udaya !!\n",
      "Using an argument, but not using return\n"
     ]
    }
   ],
   "source": [
    "def greet(name):\n",
    "    print(\"Knowledge is free quickly follow me 😊, \" + name + \"!\")\n",
    "    print(\"Using an argument, but not using return\")\n",
    "\n",
    "\n",
    "greet(\"Udaya !\")"
   ]
  },
  {
   "cell_type": "markdown",
   "id": "51eec5a9",
   "metadata": {},
   "source": [
    "### NAWR: No Arguments, With Return\n",
    "This type of function doesn't take any arguments but returns a value."
   ]
  },
  {
   "cell_type": "code",
   "execution_count": 6,
   "id": "8fc4a1e1",
   "metadata": {},
   "outputs": [
    {
     "name": "stdout",
     "output_type": "stream",
     "text": [
      "Without any argument , and using return \n",
      "Knowledge is free quickly follow me!  Udaya 😊\n"
     ]
    }
   ],
   "source": [
    "def greet():\n",
    "    message = \"Knowledge is free quickly follow me!  Udaya 😊\"\n",
    "    print(\"Without any argument , and using return \")\n",
    "    return message\n",
    "\n",
    "result = greet()\n",
    "print(result)"
   ]
  },
  {
   "cell_type": "markdown",
   "id": "35d334e1",
   "metadata": {},
   "source": [
    "### Types of Functions\n",
    "* Built-in function :- Python predefined functions that are readily available for use like min() ,\n",
    "max() , sum() , print() etc.\n",
    "* User-Defined Functions:- Function that we define ourselves to perform a specific task.\n",
    "* Anonymous functions : Function that is defined without a name. Anonymous functions are\n",
    "also called as lambda functions. They are not declared with the def keyword.\n"
   ]
  },
  {
   "cell_type": "markdown",
   "id": "e48277d1",
   "metadata": {},
   "source": [
    "## Anonymous function / Lambda Function"
   ]
  },
  {
   "cell_type": "markdown",
   "id": "8c704d09",
   "metadata": {},
   "source": [
    "#### Lambda function can take any number of argument but can perform only one expression\n",
    "#### It has no name "
   ]
  },
  {
   "cell_type": "code",
   "execution_count": 7,
   "id": "bdfce081",
   "metadata": {},
   "outputs": [
    {
     "name": "stdout",
     "output_type": "stream",
     "text": [
      "20\n"
     ]
    }
   ],
   "source": [
    "x = lambda a:a*2\n",
    "print(x(10))"
   ]
  },
  {
   "cell_type": "code",
   "execution_count": 8,
   "id": "f74b6aac",
   "metadata": {},
   "outputs": [
    {
     "name": "stdout",
     "output_type": "stream",
     "text": [
      "200\n"
     ]
    }
   ],
   "source": [
    "x = lambda a,b:a*b\n",
    "print(x(10,20))"
   ]
  },
  {
   "cell_type": "code",
   "execution_count": 9,
   "id": "66b85827",
   "metadata": {},
   "outputs": [
    {
     "name": "stdout",
     "output_type": "stream",
     "text": [
      "200\n"
     ]
    }
   ],
   "source": [
    "x = lambda a,b,c:a*b\n",
    "print(x(10,20,30))"
   ]
  },
  {
   "cell_type": "code",
   "execution_count": 10,
   "id": "076c3ea8",
   "metadata": {},
   "outputs": [
    {
     "name": "stdout",
     "output_type": "stream",
     "text": [
      "230\n"
     ]
    }
   ],
   "source": [
    "x = lambda a,b,c:a*b+c\n",
    "print(x(10,20,30))"
   ]
  },
  {
   "cell_type": "code",
   "execution_count": 11,
   "id": "3d3ceaa1",
   "metadata": {},
   "outputs": [
    {
     "name": "stdout",
     "output_type": "stream",
     "text": [
      "60\n"
     ]
    }
   ],
   "source": [
    "x = lambda a,b,c=2 : a+b+c\n",
    "print(x(10,20,30))"
   ]
  },
  {
   "cell_type": "markdown",
   "id": "1f9eb8e4",
   "metadata": {},
   "source": [
    "## Filter Function\n",
    "\n",
    "#### Filter function returns an iterator where the items are filtered through a function to test if the item is acceptable or not"
   ]
  },
  {
   "cell_type": "code",
   "execution_count": 12,
   "id": "4e3d9aea",
   "metadata": {},
   "outputs": [
    {
     "name": "stdout",
     "output_type": "stream",
     "text": [
      "It will print filter object: <filter object at 0x0000023CCB19F850>\n",
      "23 23 19 22 "
     ]
    }
   ],
   "source": [
    "age = [23, 12, 23, 19, 18, 22, 11]\n",
    "\n",
    "def check(x):\n",
    "    if x > 18:\n",
    "        return True\n",
    "    else:\n",
    "        return False\n",
    "\n",
    "# Using filter to filter elements from age list based on the condition defined in check function\n",
    "obj = filter(check, age)\n",
    "\n",
    "# Printing the filter object\n",
    "print(\"It will print filter object:\", obj)\n",
    "\n",
    "# See items by using a loop\n",
    "\n",
    "for i in obj:\n",
    "    print(i,end=\" \")"
   ]
  },
  {
   "cell_type": "code",
   "execution_count": 13,
   "id": "f3964ef9",
   "metadata": {},
   "outputs": [
    {
     "name": "stdout",
     "output_type": "stream",
     "text": [
      "To see the items we need to convert it to a list:\n",
      "[23, 23, 19, 22]\n"
     ]
    }
   ],
   "source": [
    "# Another way to see the items we need to convert it to a list\n",
    "\n",
    "obj1=filter(check,age)\n",
    "\n",
    "print(\"To see the items we need to convert it to a list:\")\n",
    "print(list(obj1))"
   ]
  },
  {
   "cell_type": "markdown",
   "id": "7d469463",
   "metadata": {},
   "source": [
    "#### Filter using lambda"
   ]
  },
  {
   "cell_type": "code",
   "execution_count": 14,
   "id": "36d71bb5",
   "metadata": {},
   "outputs": [
    {
     "data": {
      "text/plain": [
       "[23, 23, 19, 22]"
      ]
     },
     "execution_count": 14,
     "metadata": {},
     "output_type": "execute_result"
    }
   ],
   "source": [
    "age = [23, 12, 23, 19, 18, 22, 11]\n",
    "\n",
    "obj = list(filter(lambda x : x>18 , age))\n",
    "obj"
   ]
  },
  {
   "cell_type": "markdown",
   "id": "c3b1ddb8",
   "metadata": {},
   "source": [
    "## `Map` function\n",
    "\n",
    "#### Map function execute a specific function for each item in a iterable"
   ]
  },
  {
   "cell_type": "code",
   "execution_count": 15,
   "id": "ca2f27ad",
   "metadata": {},
   "outputs": [
    {
     "name": "stdout",
     "output_type": "stream",
     "text": [
      "It will print Mapped object: <map object at 0x0000023CCB2181F0>\n",
      "4 9 16 25 36 "
     ]
    }
   ],
   "source": [
    "no = [2,3,4,5,6]\n",
    "def square(x):\n",
    "    return x**2\n",
    "    \n",
    "obj = map(square , no)\n",
    "\n",
    "# Printing the filter object\n",
    "print(\"It will print Mapped object:\", obj)\n",
    "\n",
    "# See items by using a loop\n",
    "\n",
    "for i in obj:\n",
    "    print(i,end=\" \")"
   ]
  },
  {
   "cell_type": "code",
   "execution_count": 16,
   "id": "db056a2b",
   "metadata": {},
   "outputs": [
    {
     "name": "stdout",
     "output_type": "stream",
     "text": [
      "To see the items we need to convert it to a list:\n",
      "[4, 9, 16, 25, 36]\n"
     ]
    }
   ],
   "source": [
    "# Another way to see the items we need to convert it to a list\n",
    "\n",
    "obj1=map(square,no)\n",
    "\n",
    "print(\"To see the items we need to convert it to a list:\")\n",
    "print(list(obj1))"
   ]
  },
  {
   "cell_type": "markdown",
   "id": "5ddb4656",
   "metadata": {},
   "source": [
    "### Map using lambda"
   ]
  },
  {
   "cell_type": "code",
   "execution_count": 17,
   "id": "f048d617",
   "metadata": {},
   "outputs": [
    {
     "name": "stdout",
     "output_type": "stream",
     "text": [
      "[4, 9, 16, 25, 36]\n"
     ]
    }
   ],
   "source": [
    "no = [2,3,4,5,6]\n",
    "\n",
    "obj = list(map(lambda x:x**2 , no))\n",
    "print(obj)"
   ]
  },
  {
   "cell_type": "markdown",
   "id": "ef1a3bc7",
   "metadata": {},
   "source": [
    "## Lambda Filter and Map in one"
   ]
  },
  {
   "cell_type": "code",
   "execution_count": 18,
   "id": "ed618ff4",
   "metadata": {},
   "outputs": [
    {
     "name": "stdout",
     "output_type": "stream",
     "text": [
      "[8100, 1296, 5625, 1089, 900]\n"
     ]
    }
   ],
   "source": [
    "age = [20,90,36,11,75,33,27,30,24]\n",
    "\n",
    "obj = list(filter(lambda x:x>29 , age))\n",
    "\n",
    "obj2 = list(map(lambda x:x**2,obj))\n",
    "\n",
    "print(obj2)"
   ]
  },
  {
   "cell_type": "markdown",
   "id": "2bd54abc",
   "metadata": {},
   "source": [
    "## Reduce Function\n",
    "\n",
    "#### Here first two element in a sequence is picked and apply to function in a commutative way .\n",
    "#### Reduce is defined in functool module"
   ]
  },
  {
   "cell_type": "code",
   "execution_count": 19,
   "id": "dec136de",
   "metadata": {},
   "outputs": [
    {
     "name": "stdout",
     "output_type": "stream",
     "text": [
      "6\n"
     ]
    }
   ],
   "source": [
    "from functools import reduce\n",
    "\n",
    "n = [1,2,3]\n",
    "\n",
    "def mul(x,y):\n",
    "    return x*y\n",
    "\n",
    "pro = reduce(mul,n)\n",
    "print(pro)"
   ]
  },
  {
   "cell_type": "markdown",
   "id": "1836dd01",
   "metadata": {},
   "source": [
    "# Scope of a function "
   ]
  },
  {
   "cell_type": "markdown",
   "id": "4c0588e1",
   "metadata": {},
   "source": [
    "Scope is a region of program where a perticular identifier is accessible"
   ]
  },
  {
   "cell_type": "markdown",
   "id": "3686b0fe",
   "metadata": {},
   "source": [
    "### Types"
   ]
  },
  {
   "cell_type": "markdown",
   "id": "2a336ae5",
   "metadata": {},
   "source": [
    "### Local Scope / Functional Scope\n",
    "* Variable defined within a function is called local scope\n",
    "* it is accessable within a function only"
   ]
  },
  {
   "cell_type": "code",
   "execution_count": 20,
   "id": "68594b7f",
   "metadata": {},
   "outputs": [
    {
     "name": "stdout",
     "output_type": "stream",
     "text": [
      "90\n"
     ]
    }
   ],
   "source": [
    "def func():\n",
    "    local = 90\n",
    "    print(local)\n",
    "    \n",
    "func()"
   ]
  },
  {
   "cell_type": "code",
   "execution_count": 21,
   "id": "013a747c",
   "metadata": {},
   "outputs": [
    {
     "name": "stdout",
     "output_type": "stream",
     "text": [
      "It will show error as it is local var and can't access outside function body\n"
     ]
    },
    {
     "ename": "NameError",
     "evalue": "name 'local' is not defined",
     "output_type": "error",
     "traceback": [
      "\u001b[1;31m---------------------------------------------------------------------------\u001b[0m",
      "\u001b[1;31mNameError\u001b[0m                                 Traceback (most recent call last)",
      "Cell \u001b[1;32mIn[21], line 2\u001b[0m\n\u001b[0;32m      1\u001b[0m \u001b[38;5;28mprint\u001b[39m(\u001b[38;5;124m\"\u001b[39m\u001b[38;5;124mIt will show error as it is local var and can\u001b[39m\u001b[38;5;124m'\u001b[39m\u001b[38;5;124mt access outside function body\u001b[39m\u001b[38;5;124m\"\u001b[39m)\n\u001b[1;32m----> 2\u001b[0m \u001b[38;5;28mprint\u001b[39m(local)\n",
      "\u001b[1;31mNameError\u001b[0m: name 'local' is not defined"
     ]
    }
   ],
   "source": [
    "print(\"It will show error as it is local var and can't access outside function body\")\n",
    "print(local)"
   ]
  },
  {
   "cell_type": "markdown",
   "id": "e2928ec0",
   "metadata": {},
   "source": [
    "### Enclosing Scope / Non Local Scope\n",
    "* Inner function can access variable of Outer function"
   ]
  },
  {
   "cell_type": "code",
   "execution_count": 22,
   "id": "07326fe2",
   "metadata": {},
   "outputs": [
    {
     "name": "stdout",
     "output_type": "stream",
     "text": [
      "69\n"
     ]
    }
   ],
   "source": [
    "def outer():\n",
    "    NL_scope = 69\n",
    "    def inner():\n",
    "        print(NL_scope)\n",
    "    inner()\n",
    "    \n",
    "outer()"
   ]
  },
  {
   "cell_type": "markdown",
   "id": "cdb99488",
   "metadata": {},
   "source": [
    "### Built In scope\n",
    "* Highest Level of scope that includes all built in functions and objects that are available any where in code"
   ]
  },
  {
   "cell_type": "code",
   "execution_count": 23,
   "id": "456d2ad1",
   "metadata": {},
   "outputs": [
    {
     "name": "stdout",
     "output_type": "stream",
     "text": [
      "5\n"
     ]
    }
   ],
   "source": [
    "print(abs(-5))"
   ]
  },
  {
   "cell_type": "code",
   "execution_count": 24,
   "id": "1c5ffc61",
   "metadata": {},
   "outputs": [
    {
     "name": "stdout",
     "output_type": "stream",
     "text": [
      "4\n"
     ]
    }
   ],
   "source": [
    "print(len([1,2,3,99]))"
   ]
  },
  {
   "cell_type": "markdown",
   "id": "798e3f07",
   "metadata": {},
   "source": [
    "### Global Scope\n",
    "* it is accessable on entire script defined at top level anywhere"
   ]
  },
  {
   "cell_type": "code",
   "execution_count": 25,
   "id": "6bb970b8",
   "metadata": {},
   "outputs": [
    {
     "name": "stdout",
     "output_type": "stream",
     "text": [
      "10\n"
     ]
    }
   ],
   "source": [
    "glob = 10\n",
    "def func():\n",
    "    print(glob)\n",
    "    \n",
    "func()"
   ]
  },
  {
   "cell_type": "markdown",
   "id": "cb424c1d",
   "metadata": {},
   "source": [
    "### Global Keyword\n",
    "#### to change `global` varibale globally"
   ]
  },
  {
   "cell_type": "code",
   "execution_count": 26,
   "id": "6727bb2a",
   "metadata": {},
   "outputs": [
    {
     "name": "stdout",
     "output_type": "stream",
     "text": [
      "20\n",
      "Global variable changed globally when check() function executed 20\n"
     ]
    }
   ],
   "source": [
    "var = 10\n",
    "def check():\n",
    "    global var\n",
    "    var = 20\n",
    "    print(var)\n",
    "check()\n",
    "\n",
    "print(\"Global variable changed globally when check() function executed\",var)"
   ]
  },
  {
   "cell_type": "code",
   "execution_count": 27,
   "id": "cf2206c0",
   "metadata": {},
   "outputs": [
    {
     "name": "stdout",
     "output_type": "stream",
     "text": [
      "Counter: 3\n"
     ]
    }
   ],
   "source": [
    "counter = 0\n",
    "\n",
    "def increment_counter():\n",
    "    global counter  # Declare 'counter' as a global variable within this function\n",
    "    counter += 1\n",
    "\n",
    "def print_counter():\n",
    "    print(\"Counter:\", counter)\n",
    "\n",
    "# Increment the counter multiple times\n",
    "increment_counter()\n",
    "increment_counter()\n",
    "increment_counter()\n",
    "\n",
    "# Print the counter\n",
    "print_counter()  # Output: Counter: 3"
   ]
  },
  {
   "cell_type": "markdown",
   "id": "68083fb4",
   "metadata": {},
   "source": [
    "## Decorator\n",
    "\n",
    "####  a decorator is a design pattern that allows you to add functionality to an existing function or method without modifying its structure. \n",
    "#### Decorators are implemented as functions themselves and are typically used to modify the behavior of other functions or methods.\n",
    "\n",
    "#### The basic syntax for using a decorator is to prefix the function or method definition with the \"@\" symbol followed by the decorator function name. \n",
    "#### When the decorated function or method is called, it is passed as an argument to the decorator function, which then modifies its behavior as desired."
   ]
  },
  {
   "cell_type": "code",
   "execution_count": 28,
   "id": "047a3f7c",
   "metadata": {},
   "outputs": [
    {
     "name": "stdout",
     "output_type": "stream",
     "text": [
      "Hii ! Buddy\n",
      "Did you Follow me !\n",
      "It's Free of cost\n"
     ]
    }
   ],
   "source": [
    "def my_decorator(func):\n",
    "    def check():\n",
    "        func()\n",
    "        print(\"Did you Follow me !\")\n",
    "        print(\"It's Free of cost\")\n",
    "    return check\n",
    "\n",
    "@my_decorator\n",
    "def geek():\n",
    "    print(\"Hii ! Buddy\")\n",
    "    \n",
    "geek()"
   ]
  },
  {
   "cell_type": "markdown",
   "id": "7d9893ce",
   "metadata": {},
   "source": [
    "## Closure \n",
    "* A closure in Python is a nested function that captures and retains the environment in which it was created,\n",
    "* even after the outer function has finished execution.\n",
    "* This allows the inner function to access and manipulate variables from the outer function's scope."
   ]
  },
  {
   "cell_type": "code",
   "execution_count": 29,
   "id": "b8830688",
   "metadata": {},
   "outputs": [
    {
     "name": "stdout",
     "output_type": "stream",
     "text": [
      "8\n"
     ]
    }
   ],
   "source": [
    "def outer_function(x):\n",
    "    def inner_function(y):\n",
    "        return x + y\n",
    "    return inner_function\n",
    "\n",
    "# Create a closure by calling outer_function\n",
    "closure = outer_function(5)\n",
    "\n",
    "# Use the closure\n",
    "result = closure(3)\n",
    "print(result)"
   ]
  },
  {
   "cell_type": "markdown",
   "id": "34f6112e",
   "metadata": {},
   "source": [
    "## Generator \n",
    "* a generator is a special type of iterator that allows you to iterate over a sequence of values without the need to store them all in memory at once.\n",
    "* Generators are defined using functions and the yield keyword, \n",
    "* which allows them to generate values one at a time, on-the-fly, as they are requested.\n",
    "* All generators are Iterators\n",
    "* `iter()` used to get the object code\n",
    "* `next()` used to interate through it"
   ]
  },
  {
   "cell_type": "code",
   "execution_count": 30,
   "id": "95f5972a",
   "metadata": {},
   "outputs": [
    {
     "name": "stdout",
     "output_type": "stream",
     "text": [
      "0\n",
      "1\n",
      "2\n",
      "<generator object generator at 0x0000023CCB58B920>\n"
     ]
    }
   ],
   "source": [
    "def generator(n):\n",
    "    for i in range(n):\n",
    "        yield i\n",
    "\n",
    "obj = generator(5)\n",
    "\n",
    "print(next(obj))\n",
    "print(next(obj))\n",
    "print(next(obj))\n",
    "\n",
    "print(iter(obj))"
   ]
  },
  {
   "cell_type": "markdown",
   "id": "068e4769",
   "metadata": {},
   "source": [
    "## Iterator\n",
    "* an iterator is an object that represents a stream of data. \n",
    "* It allows you to iterate over elements in a sequence one at a time, without having to load the entire sequence into memory at once.\n",
    "* Iterators are commonly used in for loops, comprehensions, and other constructs that require sequential processing of elements.\n",
    "\n",
    "#### An iterator must implement two methods:\n",
    "\n",
    "* `__iter__():` This method returns the iterator object itself.\n",
    "\n",
    "* `__next__():` This method returns the next item in the sequence. \n",
    "* If there are no more items, it raises the StopIteration exception."
   ]
  },
  {
   "cell_type": "code",
   "execution_count": 31,
   "id": "a09ea437",
   "metadata": {},
   "outputs": [
    {
     "name": "stdout",
     "output_type": "stream",
     "text": [
      "<list_iterator object at 0x0000023CCB21AF50>\n"
     ]
    }
   ],
   "source": [
    "data = [2,3,4,66,7,1]\n",
    "\n",
    "obj = iter(data)\n",
    "\n",
    "print(obj)"
   ]
  },
  {
   "cell_type": "code",
   "execution_count": 32,
   "id": "60c4c435",
   "metadata": {},
   "outputs": [
    {
     "name": "stdout",
     "output_type": "stream",
     "text": [
      "2\n"
     ]
    }
   ],
   "source": [
    "print(next(obj))"
   ]
  },
  {
   "cell_type": "code",
   "execution_count": 33,
   "id": "13792a5a",
   "metadata": {},
   "outputs": [
    {
     "name": "stdout",
     "output_type": "stream",
     "text": [
      "3\n",
      "4\n",
      "66\n",
      "7\n",
      "1\n"
     ]
    }
   ],
   "source": [
    "while True:\n",
    "    try:\n",
    "        print(next(obj))\n",
    "    except Exception as e:\n",
    "        break"
   ]
  },
  {
   "cell_type": "markdown",
   "id": "946b1154",
   "metadata": {},
   "source": [
    "## Recursion\n",
    "* Function calling itself"
   ]
  },
  {
   "cell_type": "markdown",
   "id": "81e924f2",
   "metadata": {},
   "source": [
    "#### factorial"
   ]
  },
  {
   "cell_type": "code",
   "execution_count": 34,
   "id": "e00daa8f",
   "metadata": {},
   "outputs": [
    {
     "data": {
      "text/plain": [
       "6"
      ]
     },
     "execution_count": 34,
     "metadata": {},
     "output_type": "execute_result"
    }
   ],
   "source": [
    "def factorial(no):\n",
    "    if no==0:\n",
    "        return 1\n",
    "    else:\n",
    "        return no * factorial(no-1)\n",
    "factorial(3)"
   ]
  },
  {
   "cell_type": "markdown",
   "id": "0776cbde",
   "metadata": {},
   "source": [
    "#### fibonacci no"
   ]
  },
  {
   "cell_type": "code",
   "execution_count": 35,
   "id": "c0a6969e",
   "metadata": {},
   "outputs": [
    {
     "data": {
      "text/plain": [
       "89"
      ]
     },
     "execution_count": 35,
     "metadata": {},
     "output_type": "execute_result"
    }
   ],
   "source": [
    "def fibinacci(no):\n",
    "    if no<=1:\n",
    "        return no\n",
    "    else:\n",
    "        return fibinacci(no-1) + fibinacci(no-2)\n",
    "result=fibinacci(11)\n",
    "result"
   ]
  },
  {
   "cell_type": "markdown",
   "id": "e8e2f27c",
   "metadata": {},
   "source": [
    "#### power calculation"
   ]
  },
  {
   "cell_type": "code",
   "execution_count": 36,
   "id": "cf7ec127",
   "metadata": {},
   "outputs": [
    {
     "data": {
      "text/plain": [
       "8"
      ]
     },
     "execution_count": 36,
     "metadata": {},
     "output_type": "execute_result"
    }
   ],
   "source": [
    "def power(t,o):\n",
    "    if o==0:\n",
    "        return 1\n",
    "    else:\n",
    "        return t* power(t,o-1)\n",
    "result=power(2,3)\n",
    "result"
   ]
  },
  {
   "cell_type": "markdown",
   "id": "4003d756",
   "metadata": {},
   "source": [
    "## * args\n",
    "\n",
    "#### * treat arguments as tuple\n",
    "#### args can be any name"
   ]
  },
  {
   "cell_type": "code",
   "execution_count": 37,
   "id": "3cc448d0",
   "metadata": {},
   "outputs": [
    {
     "name": "stdout",
     "output_type": "stream",
     "text": [
      "1\n",
      "2\n",
      "3\n",
      "67\n",
      "7\n",
      "udaya\n"
     ]
    }
   ],
   "source": [
    "def func(*args):\n",
    "    for i in args:\n",
    "        print(i)\n",
    "func(1,2,3,67,7,'udaya')"
   ]
  },
  {
   "cell_type": "markdown",
   "id": "779c4911",
   "metadata": {},
   "source": [
    "## **kwargs\n",
    "#### treat arguments as dictionary"
   ]
  },
  {
   "cell_type": "code",
   "execution_count": 38,
   "id": "5f5f9649",
   "metadata": {},
   "outputs": [
    {
     "name": "stdout",
     "output_type": "stream",
     "text": [
      "name ub\n",
      "age 30\n",
      "classs oo\n"
     ]
    }
   ],
   "source": [
    "def func(**kwargs):\n",
    "    for k,v in kwargs.items():\n",
    "        print(f\"{k} {v}\")\n",
    "func(name=\"ub\",age=30,classs=\"oo\")"
   ]
  },
  {
   "cell_type": "markdown",
   "id": "828f2862",
   "metadata": {},
   "source": [
    "#### both"
   ]
  },
  {
   "cell_type": "code",
   "execution_count": 40,
   "id": "0c288f43",
   "metadata": {},
   "outputs": [
    {
     "name": "stdout",
     "output_type": "stream",
     "text": [
      "1\n",
      "2\n",
      "name ub\n",
      "age 30\n",
      "classs oo\n"
     ]
    }
   ],
   "source": [
    "def function(*args,**kwargs):\n",
    "    for i in args:\n",
    "        print(i)\n",
    "    for k,v in kwargs.items():\n",
    "        print(f\"{k} {v}\")\n",
    "function(1,2,name=\"ub\",age=30,classs=\"oo\")"
   ]
  },
  {
   "cell_type": "markdown",
   "id": "9b25953a",
   "metadata": {},
   "source": [
    "# <center>Thank You From `Udaya`</center>"
   ]
  }
 ],
 "metadata": {
  "kernelspec": {
   "display_name": "Python 3 (ipykernel)",
   "language": "python",
   "name": "python3"
  },
  "language_info": {
   "codemirror_mode": {
    "name": "ipython",
    "version": 3
   },
   "file_extension": ".py",
   "mimetype": "text/x-python",
   "name": "python",
   "nbconvert_exporter": "python",
   "pygments_lexer": "ipython3",
   "version": "3.11.5"
  }
 },
 "nbformat": 4,
 "nbformat_minor": 5
}
